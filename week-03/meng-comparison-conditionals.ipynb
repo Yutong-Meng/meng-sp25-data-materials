{
 "cells": [
  {
   "cell_type": "markdown",
   "id": "43a7ad67-1d57-48c9-b3bc-c23aff2ecb52",
   "metadata": {},
   "source": [
    "part 1: Creating Variable"
   ]
  },
  {
   "cell_type": "code",
   "execution_count": 13,
   "id": "a9175972-cf92-451b-a231-b352f99bd4b5",
   "metadata": {},
   "outputs": [],
   "source": [
    "# Boston population data\n",
    "boston_1850= 136881\n",
    "boston_1860= 177840\n",
    "boston_1870= 250526\n",
    "# New York population data\n",
    "ny_1850 = 515547\n",
    "ny_1860 = 813669\n",
    "ny_1870 = 942292\n",
    "# Philadelphia population data\n",
    "phil_1850 = 121376\n",
    "phil_1860 = 565529\n",
    "phil_1870 = 674022"
   ]
  },
  {
   "cell_type": "markdown",
   "id": "7b0fc9ef-9ace-4545-bffa-653706c25927",
   "metadata": {},
   "source": [
    "Part 2: Basic Comparisons"
   ]
  },
  {
   "cell_type": "code",
   "execution_count": 18,
   "id": "5e8a258d-cb7a-4e54-af63-4bcb0b6f0e04",
   "metadata": {},
   "outputs": [
    {
     "name": "stdout",
     "output_type": "stream",
     "text": [
      "113645\n"
     ]
    }
   ],
   "source": [
    "boston_1850=136881\n",
    "boston_1870=250526\n",
    "boston_population_surpass=boston_1870-boston_1850\n",
    "print(boston_population_surpass)"
   ]
  },
  {
   "cell_type": "code",
   "execution_count": 22,
   "id": "8fc0204d-61e0-4f89-8350-47b631d15653",
   "metadata": {},
   "outputs": [
    {
     "name": "stdout",
     "output_type": "stream",
     "text": [
      "yes!\n"
     ]
    }
   ],
   "source": [
    "if boston_1870 >200000:\n",
    "    print(\"yes!\")\n",
    "else:\n",
    "    print(\"no!\")"
   ]
  },
  {
   "cell_type": "code",
   "execution_count": 24,
   "id": "9d3b53de-b134-4e72-84c5-09367ea006f9",
   "metadata": {},
   "outputs": [],
   "source": [
    "# Calculate population growth\n",
    "boston_growth = boston_1870 - boston_1850\n",
    "ny_growth = ny_1870 - ny_1850\n",
    "phil_growth = phil_1870 - phil_1850"
   ]
  },
  {
   "cell_type": "code",
   "execution_count": 34,
   "id": "73f8fcd8-b43e-43fb-a7a5-4da62791e3ae",
   "metadata": {},
   "outputs": [
    {
     "name": "stdout",
     "output_type": "stream",
     "text": [
      "philadelphia has highest growth\n"
     ]
    }
   ],
   "source": [
    "if boston_growth > ny_growth and boston_growth > phil_growth:\n",
    "    print(\"Boston has higher growth\")\n",
    "elif ny_growth > phil_growth and ny_growth > bos_growth:\n",
    "    print(\"New York has highest growth\")\n",
    "elif phil_growth > ny_growth and phil_growth > boston_growth:\n",
    "    print(\"philadelphia has highest growth\")"
   ]
  },
  {
   "cell_type": "markdown",
   "id": "e28aebbb-140e-4a54-b343-dd85213e6044",
   "metadata": {},
   "source": [
    "Write code using and to check if BOTH:\n",
    "Boston’s 1870 population was over 200,000\n",
    "AND Boston’s population increased by at least 100,000 from 1850 to 1870"
   ]
  },
  {
   "cell_type": "code",
   "execution_count": 36,
   "id": "5dd6dfcf-be3f-4c4c-8d10-61734dd4f047",
   "metadata": {},
   "outputs": [
    {
     "name": "stdout",
     "output_type": "stream",
     "text": [
      "Condition met!\n"
     ]
    }
   ],
   "source": [
    "if boston_1870 > 200000 and (boston_1870-boston_1850) > 100000:\n",
    "    print(\"Condition met!\")"
   ]
  },
  {
   "cell_type": "code",
   "execution_count": null,
   "id": "04c09fd3-1993-4da4-ad4e-3d10d0ba664d",
   "metadata": {},
   "outputs": [],
   "source": []
  }
 ],
 "metadata": {
  "kernelspec": {
   "display_name": "Python [conda env:base] *",
   "language": "python",
   "name": "conda-base-py"
  },
  "language_info": {
   "codemirror_mode": {
    "name": "ipython",
    "version": 3
   },
   "file_extension": ".py",
   "mimetype": "text/x-python",
   "name": "python",
   "nbconvert_exporter": "python",
   "pygments_lexer": "ipython3",
   "version": "3.12.7"
  }
 },
 "nbformat": 4,
 "nbformat_minor": 5
}
