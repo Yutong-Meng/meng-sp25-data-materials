{
 "cells": [
  {
   "cell_type": "markdown",
   "id": "375e78d0-dd05-4fbd-9927-d2ce3dc3262d",
   "metadata": {},
   "source": [
    "Create a dictionary"
   ]
  },
  {
   "cell_type": "code",
   "execution_count": 2,
   "id": "adf4aa97-6275-4773-bf6f-c714e2368eba",
   "metadata": {},
   "outputs": [
    {
     "name": "stdout",
     "output_type": "stream",
     "text": [
      "{'Patrick Murphy': 45, 'Mary Kelly': 23, 'Thomas Williams': 16, 'Elizabeth Smith': 34}\n"
     ]
    }
   ],
   "source": [
    "# Create a dictionary mapping names to ages\n",
    "ages_dict = {\n",
    "    \"Patrick Murphy\": 45,\n",
    "    \"Mary Kelly\": 23,\n",
    "    \"Thomas Williams\": 16,\n",
    "    \"Elizabeth Smith\": 34\n",
    "}\n",
    "\n",
    "# Print the entire dictionary\n",
    "print(ages_dict)"
   ]
  },
  {
   "cell_type": "markdown",
   "id": "1702a473-a7c6-4051-a597-7667d6ea8bfe",
   "metadata": {},
   "source": [
    "Accessing items"
   ]
  },
  {
   "cell_type": "code",
   "execution_count": 5,
   "id": "8e923cf3-000e-4009-ab5d-13512ee2801f",
   "metadata": {},
   "outputs": [
    {
     "name": "stdout",
     "output_type": "stream",
     "text": [
      "Patrick Murphy is 45 years old.\n"
     ]
    }
   ],
   "source": [
    "# Get Patrick's age using his name as the key\n",
    "patricks_age = ages_dict[\"Patrick Murphy\"]\n",
    "print(f\"Patrick Murphy is {patricks_age} years old.\")\n"
   ]
  },
  {
   "cell_type": "markdown",
   "id": "7ccd7024-c7a1-43a4-981d-36a8b593f9bd",
   "metadata": {},
   "source": [
    "Creating a dictionary"
   ]
  },
  {
   "cell_type": "code",
   "execution_count": 18,
   "id": "87ba2723-6889-453e-b6ad-532fc9a6f3f5",
   "metadata": {},
   "outputs": [
    {
     "name": "stdout",
     "output_type": "stream",
     "text": [
      "{'Taylor Swift': 35, 'Olivia Rodrigo': 22, 'Tom Hanks': 68, 'Meryl Streep': 75}\n"
     ]
    }
   ],
   "source": [
    "celebrity_ages = {\n",
    "    \"Taylor Swift\": 35,\n",
    "    \"Olivia Rodrigo\": 22,\n",
    "    \"Tom Hanks\": 68,\n",
    "    \"Meryl Streep\": 75,\n",
    "}\n",
    "\n",
    "# Print the entire dictionary\n",
    "print(celebrity_ages)"
   ]
  },
  {
   "cell_type": "code",
   "execution_count": null,
   "id": "03aa87f1-587c-4193-a6e6-3d1cc32d603f",
   "metadata": {},
   "outputs": [],
   "source": []
  },
  {
   "cell_type": "code",
   "execution_count": 37,
   "id": "05d3dc27-dfdf-4628-8dad-844f24d2e1c3",
   "metadata": {},
   "outputs": [
    {
     "name": "stdout",
     "output_type": "stream",
     "text": [
      "{'Taylor Swift': 40, 'Olivia Rodrigo': 22, 'Tom Hanks': 68, 'Meryl Streep': 75, 'Michael Sullivan': 64, 'Thomas Williams': 17}\n"
     ]
    }
   ],
   "source": [
    "# Add a new person to our ages dictionary\n",
    "ages_dict[\"Michael Sullivan\"] = 64\n",
    "print(ages_dict)\n"
   ]
  },
  {
   "cell_type": "code",
   "execution_count": 39,
   "id": "ff0a1359-f910-4870-b841-350cda2ff41e",
   "metadata": {},
   "outputs": [
    {
     "name": "stdout",
     "output_type": "stream",
     "text": [
      "Updated age for Thomas: 17\n"
     ]
    }
   ],
   "source": [
    "# Change someone's age\n",
    "ages_dict[\"Thomas Williams\"] = 17  # Thomas just had a birthday!\n",
    "print(f\"Updated age for Thomas: {ages_dict['Thomas Williams']}\")\n"
   ]
  },
  {
   "cell_type": "code",
   "execution_count": 41,
   "id": "39cd5ab8-c553-4a2e-9314-61b37388fdf3",
   "metadata": {},
   "outputs": [
    {
     "name": "stdout",
     "output_type": "stream",
     "text": [
      "Updated age for Taylor: 40\n"
     ]
    }
   ],
   "source": [
    "# Change someone's age\n",
    "ages_dict[\"Taylor Swift\"] = 40  # Taylor just had a birthday!\n",
    "print(f\"Updated age for Taylor: {ages_dict['Taylor Swift']}\")"
   ]
  },
  {
   "cell_type": "code",
   "execution_count": 43,
   "id": "892df40c-7792-4844-88a4-e8968d0cbef5",
   "metadata": {},
   "outputs": [
    {
     "name": "stdout",
     "output_type": "stream",
     "text": [
      "Taylor Swift is 40 years old.\n",
      "Olivia Rodrigo is 22 years old.\n",
      "Tom Hanks is 68 years old.\n",
      "Meryl Streep is 75 years old.\n",
      "Michael Sullivan is 64 years old.\n",
      "Thomas Williams is 17 years old.\n",
      "Taylor Swift is 40 years old.\n",
      "Olivia Rodrigo is 22 years old.\n",
      "Tom Hanks is 68 years old.\n",
      "Meryl Streep is 75 years old.\n",
      "Michael Sullivan is 64 years old.\n",
      "Thomas Williams is 17 years old.\n"
     ]
    }
   ],
   "source": [
    "# Loop through all names and ages\n",
    "for name in ages_dict:\n",
    "    print(f\"{name} is {ages_dict[name]} years old.\")\n",
    "\n",
    "# A more elegant way using the .items() method\n",
    "for name, age in ages_dict.items():\n",
    "    print(f\"{name} is {age} years old.\")\n"
   ]
  },
  {
   "cell_type": "code",
   "execution_count": 45,
   "id": "ec2d8d6e-375d-4062-8686-b9993fc478c3",
   "metadata": {},
   "outputs": [
    {
     "name": "stdout",
     "output_type": "stream",
     "text": [
      "Taylor Swift is 40 years old.\n",
      "Tom Hanks is 68 years old.\n",
      "Meryl Streep is 75 years old.\n",
      "Michael Sullivan is 64 years old.\n"
     ]
    }
   ],
   "source": [
    "# Find all people over 30\n",
    "for name, age in ages_dict.items():\n",
    "    if age > 30:\n",
    "        print(f\"{name} is {age} years old.\")\n"
   ]
  },
  {
   "cell_type": "code",
   "execution_count": 19,
   "id": "90e56e10-b528-4db6-9178-f21a2ac684e8",
   "metadata": {},
   "outputs": [
    {
     "ename": "NameError",
     "evalue": "name 'ages_dict' is not defined",
     "output_type": "error",
     "traceback": [
      "\u001b[0;31m---------------------------------------------------------------------------\u001b[0m",
      "\u001b[0;31mNameError\u001b[0m                                 Traceback (most recent call last)",
      "Cell \u001b[0;32mIn[19], line 1\u001b[0m\n\u001b[0;32m----> 1\u001b[0m \u001b[38;5;28;01mfor\u001b[39;00m name \u001b[38;5;129;01min\u001b[39;00m ages_dict:\n\u001b[1;32m      2\u001b[0m   \u001b[38;5;28;01mif\u001b[39;00m age \u001b[38;5;241m>\u001b[39m \u001b[38;5;241m61\u001b[39m :\n\u001b[1;32m      3\u001b[0m     \u001b[38;5;28mprint\u001b[39m(\u001b[38;5;124mf\u001b[39m\u001b[38;5;124m\"\u001b[39m\u001b[38;5;132;01m{\u001b[39;00mname\u001b[38;5;132;01m}\u001b[39;00m\u001b[38;5;124m is A Boomer\u001b[39m\u001b[38;5;124m\"\u001b[39m)\n",
      "\u001b[0;31mNameError\u001b[0m: name 'ages_dict' is not defined"
     ]
    }
   ],
   "source": [
    "for name in ages_dict:\n",
    "  if age > 61 :\n",
    "    print(f\"{name} is A Boomer\")\n",
    "  \n",
    "  elif age > 29 and age <= 44 :\n",
    "    print(f\"{name} is a Millenial\")"
   ]
  },
  {
   "cell_type": "code",
   "execution_count": 56,
   "id": "d66e5854-5a67-4d32-a448-5d3276f1c164",
   "metadata": {},
   "outputs": [],
   "source": [
    "# Create one dictionary with all information about each person\n",
    "census_data = {\n",
    "    \"Patrick Murphy\": {\n",
    "        \"age\": 45,\n",
    "        \"birth_place\": \"Ireland\",\n",
    "        \"occupation\": \"farmer\"\n",
    "    },\n",
    "    \"Mary Kelly\": {\n",
    "        \"age\": 23,\n",
    "        \"birth_place\": \"Ireland\",\n",
    "        \"occupation\": \"servant\"\n",
    "    },\n",
    "    \"Thomas Williams\": {\n",
    "        \"age\": 17,\n",
    "        \"birth_place\": \"Wales\",\n",
    "        \"occupation\": \"laborer\"\n",
    "    },\n",
    "    \"Elizabeth Smith\": {\n",
    "    \"age\": 34,\n",
    "    \"birth_place\": \"England\",\n",
    "    \"occupation\": \"servant\"\n",
    "    }\n",
    "}\n"
   ]
  },
  {
   "cell_type": "code",
   "execution_count": 58,
   "id": "f63ac2ab-e712-465b-8e53-e9d6a7db02cd",
   "metadata": {},
   "outputs": [
    {
     "ename": "SyntaxError",
     "evalue": "invalid character '（' (U+FF08) (1242064403.py, line 2)",
     "output_type": "error",
     "traceback": [
      "\u001b[0;36m  Cell \u001b[0;32mIn[58], line 2\u001b[0;36m\u001b[0m\n\u001b[0;31m    print（name)\u001b[0m\n\u001b[0m         ^\u001b[0m\n\u001b[0;31mSyntaxError\u001b[0m\u001b[0;31m:\u001b[0m invalid character '（' (U+FF08)\n"
     ]
    }
   ],
   "source": [
    "for name, info in census_data, items():\n",
    "    print（name)\n",
    "    print (info)"
   ]
  },
  {
   "cell_type": "code",
   "execution_count": 60,
   "id": "911b8b31-761d-4ea8-8a28-1a42a67ff897",
   "metadata": {},
   "outputs": [
    {
     "name": "stdout",
     "output_type": "stream",
     "text": [
      "{'age': 45, 'birth_place': 'Ireland', 'occupation': 'farmer'}\n",
      "farmer\n"
     ]
    }
   ],
   "source": [
    "# Access data from our nested dictionary\n",
    "print(census_data[\"Patrick Murphy\"])\n",
    "print(census_data[\"Patrick Murphy\"][\"occupation\"])"
   ]
  },
  {
   "cell_type": "code",
   "execution_count": 21,
   "id": "b9c4c6e9-9060-493f-9cbd-9609fb69582b",
   "metadata": {},
   "outputs": [
    {
     "ename": "NameError",
     "evalue": "name 'names' is not defined",
     "output_type": "error",
     "traceback": [
      "\u001b[0;31m---------------------------------------------------------------------------\u001b[0m",
      "\u001b[0;31mNameError\u001b[0m                                 Traceback (most recent call last)",
      "Cell \u001b[0;32mIn[21], line 5\u001b[0m\n\u001b[1;32m      2\u001b[0m auto_census \u001b[38;5;241m=\u001b[39m {}\n\u001b[1;32m      4\u001b[0m \u001b[38;5;66;03m# Loop through the lists to create our nested dictionary\u001b[39;00m\n\u001b[0;32m----> 5\u001b[0m \u001b[38;5;28;01mfor\u001b[39;00m i \u001b[38;5;129;01min\u001b[39;00m \u001b[38;5;28mrange\u001b[39m(\u001b[38;5;28mlen\u001b[39m(names)):\n\u001b[1;32m      6\u001b[0m     \u001b[38;5;66;03m# Extract the data for this person and temporarily put the data into a series of variables\u001b[39;00m\n\u001b[1;32m      7\u001b[0m     name \u001b[38;5;241m=\u001b[39m names[i]\n\u001b[1;32m      8\u001b[0m     age \u001b[38;5;241m=\u001b[39m ages[i]\n",
      "\u001b[0;31mNameError\u001b[0m: name 'names' is not defined"
     ]
    }
   ],
   "source": [
    "# Start with an empty dictionary\n",
    "auto_census = {}\n",
    "\n",
    "# Loop through the lists to create our nested dictionary\n",
    "for i in range(len(names)):\n",
    "    # Extract the data for this person and temporarily put the data into a series of variables\n",
    "    name = names[i]\n",
    "    age = ages[i]\n",
    "    birth_place = birth_places[i]\n",
    "    occupation = occupations[i]\n",
    "\n",
    "    # Create the nested dictionary for this person\n",
    "    auto_census[name] = {\n",
    "        \"age\": age,\n",
    "        \"birth_place\": birth_place,\n",
    "        \"occupation\": occupation\n",
    "    }\n"
   ]
  },
  {
   "cell_type": "code",
   "execution_count": 23,
   "id": "8230b317-615b-48fa-a050-e6d22e2dd690",
   "metadata": {},
   "outputs": [
    {
     "data": {
      "text/plain": [
       "{}"
      ]
     },
     "execution_count": 23,
     "metadata": {},
     "output_type": "execute_result"
    }
   ],
   "source": [
    "auto_census"
   ]
  },
  {
   "cell_type": "code",
   "execution_count": null,
   "id": "01ecc467-01e2-449d-9bc2-3c5d726d008f",
   "metadata": {},
   "outputs": [],
   "source": []
  }
 ],
 "metadata": {
  "kernelspec": {
   "display_name": "Python [conda env:base] *",
   "language": "python",
   "name": "conda-base-py"
  },
  "language_info": {
   "codemirror_mode": {
    "name": "ipython",
    "version": 3
   },
   "file_extension": ".py",
   "mimetype": "text/x-python",
   "name": "python",
   "nbconvert_exporter": "python",
   "pygments_lexer": "ipython3",
   "version": "3.12.7"
  }
 },
 "nbformat": 4,
 "nbformat_minor": 5
}
