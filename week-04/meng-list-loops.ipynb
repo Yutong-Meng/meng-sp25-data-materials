{
 "cells": [
  {
   "cell_type": "markdown",
   "id": "e0b7670d-bcfb-4d8f-bc65-e6091f8165c4",
   "metadata": {},
   "source": [
    "Getting the data"
   ]
  },
  {
   "cell_type": "code",
   "execution_count": 3,
   "id": "d8e07518-d6f8-4cbf-878f-61c8e92ac54a",
   "metadata": {},
   "outputs": [],
   "source": [
    "ages = [45, 23, 16, 34, 64, 28, 42, 31, 27, 38, 17, 52, 29, 44, 33, 15, 61, 36, 18, 41]\n",
    "\n",
    "occupations = ['farmer', 'servant', 'laborer', 'merchant', 'farmer', 'servant', 'teacher', 'farmer', 'laborer', 'merchant', 'servant', 'farmer', 'laborer', 'blacksmith', 'carpenter', 'servant', 'farmer', 'weaver', 'servant', 'carpenter']\n",
    "\n",
    "birth_places = ['Ireland', 'Ireland', 'New York', 'England', 'Ireland', 'Germany', 'New York', 'Ireland', 'Ireland', 'Scotland', 'Ireland', 'England', 'Ireland', 'Wales', 'Ireland', 'Ireland', 'Scotland', 'Ireland', 'Germany', 'Ireland']\n"
   ]
  },
  {
   "cell_type": "code",
   "execution_count": 5,
   "id": "20144bca-9227-4be7-b722-d43c6d4ee3a5",
   "metadata": {},
   "outputs": [
    {
     "data": {
      "text/plain": [
       "['farmer',\n",
       " 'servant',\n",
       " 'laborer',\n",
       " 'merchant',\n",
       " 'farmer',\n",
       " 'servant',\n",
       " 'teacher',\n",
       " 'farmer',\n",
       " 'laborer',\n",
       " 'merchant',\n",
       " 'servant',\n",
       " 'farmer',\n",
       " 'laborer',\n",
       " 'blacksmith',\n",
       " 'carpenter',\n",
       " 'servant',\n",
       " 'farmer',\n",
       " 'weaver',\n",
       " 'servant',\n",
       " 'carpenter']"
      ]
     },
     "execution_count": 5,
     "metadata": {},
     "output_type": "execute_result"
    }
   ],
   "source": [
    "occupations"
   ]
  },
  {
   "cell_type": "markdown",
   "id": "d504d322-db08-4509-a5e3-d6fb292dfd2d",
   "metadata": {},
   "source": [
    "Exploring contents of lists"
   ]
  },
  {
   "cell_type": "code",
   "execution_count": 12,
   "id": "43bccbc8-4a57-4991-bc16-ef636ba4c959",
   "metadata": {},
   "outputs": [
    {
     "name": "stdout",
     "output_type": "stream",
     "text": [
      "The length of the ages list is 20\n"
     ]
    }
   ],
   "source": [
    "print(f\"The length of the ages list is {len(ages)}\")"
   ]
  },
  {
   "cell_type": "code",
   "execution_count": 14,
   "id": "93c0cadc-124a-4647-8085-f63e97dc98fc",
   "metadata": {},
   "outputs": [
    {
     "data": {
      "text/plain": [
       "['farmer', 'servant', 'laborer', 'merchant', 'farmer']"
      ]
     },
     "execution_count": 14,
     "metadata": {},
     "output_type": "execute_result"
    }
   ],
   "source": [
    "occupations[0:5]"
   ]
  },
  {
   "cell_type": "code",
   "execution_count": 16,
   "id": "e4f1b1c1-f1b8-45f8-8c59-19dec857d43c",
   "metadata": {},
   "outputs": [
    {
     "data": {
      "text/plain": [
       "Counter({'farmer': 5,\n",
       "         'servant': 5,\n",
       "         'laborer': 3,\n",
       "         'merchant': 2,\n",
       "         'carpenter': 2,\n",
       "         'teacher': 1,\n",
       "         'blacksmith': 1,\n",
       "         'weaver': 1})"
      ]
     },
     "execution_count": 16,
     "metadata": {},
     "output_type": "execute_result"
    }
   ],
   "source": [
    "from collections import Counter\n",
    "Counter(occupations)"
   ]
  },
  {
   "cell_type": "code",
   "execution_count": 18,
   "id": "c5e2341c-2e94-4b98-80e0-24e70552c220",
   "metadata": {},
   "outputs": [
    {
     "data": {
      "text/plain": [
       "Counter({45: 1,\n",
       "         23: 1,\n",
       "         16: 1,\n",
       "         34: 1,\n",
       "         64: 1,\n",
       "         28: 1,\n",
       "         42: 1,\n",
       "         31: 1,\n",
       "         27: 1,\n",
       "         38: 1,\n",
       "         17: 1,\n",
       "         52: 1,\n",
       "         29: 1,\n",
       "         44: 1,\n",
       "         33: 1,\n",
       "         15: 1,\n",
       "         61: 1,\n",
       "         36: 1,\n",
       "         18: 1,\n",
       "         41: 1})"
      ]
     },
     "execution_count": 18,
     "metadata": {},
     "output_type": "execute_result"
    }
   ],
   "source": [
    "Counter(ages)"
   ]
  },
  {
   "cell_type": "code",
   "execution_count": 20,
   "id": "95181d80-9dc8-45df-a441-b2cb371aaca9",
   "metadata": {},
   "outputs": [
    {
     "data": {
      "text/plain": [
       "Counter({'Ireland': 11,\n",
       "         'New York': 2,\n",
       "         'England': 2,\n",
       "         'Germany': 2,\n",
       "         'Scotland': 2,\n",
       "         'Wales': 1})"
      ]
     },
     "execution_count": 20,
     "metadata": {},
     "output_type": "execute_result"
    }
   ],
   "source": [
    "Counter(birth_places)"
   ]
  },
  {
   "cell_type": "code",
   "execution_count": 22,
   "id": "661a685a-ece1-4c8c-88b0-f369e6b5a9ec",
   "metadata": {},
   "outputs": [
    {
     "name": "stdout",
     "output_type": "stream",
     "text": [
      "Person #0: farmer\n",
      "Person #1: servant\n",
      "Person #2: laborer\n",
      "Person #3: merchant\n",
      "Person #4: farmer\n",
      "Person #5: servant\n",
      "Person #6: teacher\n",
      "Person #7: farmer\n",
      "Person #8: laborer\n",
      "Person #9: merchant\n",
      "Person #10: servant\n",
      "Person #11: farmer\n",
      "Person #12: laborer\n",
      "Person #13: blacksmith\n",
      "Person #14: carpenter\n",
      "Person #15: servant\n",
      "Person #16: farmer\n",
      "Person #17: weaver\n",
      "Person #18: servant\n",
      "Person #19: carpenter\n"
     ]
    }
   ],
   "source": [
    "for number, occupation in enumerate(occupations):\n",
    "    print(f\"Person #{number}: {occupation}\")"
   ]
  },
  {
   "cell_type": "code",
   "execution_count": 26,
   "id": "1f6d894f-14df-4bac-aee5-1517b1050b18",
   "metadata": {},
   "outputs": [
    {
     "name": "stdout",
     "output_type": "stream",
     "text": [
      "Person #0: 45\n",
      "Person #1: 23\n",
      "Person #2: 16\n",
      "Person #3: 34\n",
      "Person #4: 64\n",
      "Person #5: 28\n",
      "Person #6: 42\n",
      "Person #7: 31\n",
      "Person #8: 27\n",
      "Person #9: 38\n",
      "Person #10: 17\n",
      "Person #11: 52\n",
      "Person #12: 29\n",
      "Person #13: 44\n",
      "Person #14: 33\n",
      "Person #15: 15\n",
      "Person #16: 61\n",
      "Person #17: 36\n",
      "Person #18: 18\n",
      "Person #19: 41\n"
     ]
    }
   ],
   "source": [
    "for number, age in enumerate(ages):\n",
    "    print(f\"Person #{number}: {age}\")"
   ]
  },
  {
   "cell_type": "markdown",
   "id": "68d4b724-a804-4333-9e92-2185e5128069",
   "metadata": {},
   "source": [
    "Creating a new list"
   ]
  },
  {
   "cell_type": "code",
   "execution_count": 29,
   "id": "8f9f0423-eea9-460d-ae64-1605ceef6227",
   "metadata": {},
   "outputs": [
    {
     "name": "stdout",
     "output_type": "stream",
     "text": [
      "Number of skilled laborers: 4\n"
     ]
    }
   ],
   "source": [
    "skilled_laborers = []\n",
    "for occupation in occupations:\n",
    "    if occupation == 'blacksmith' or occupation == 'carpenter' or occupation == 'weaver':\n",
    "        skilled_laborers.append(occupation)\n",
    "print(f\"Number of skilled laborers: {len(skilled_laborers)}\")\n"
   ]
  },
  {
   "cell_type": "code",
   "execution_count": 31,
   "id": "8851ab3e-2ede-42f5-a0e6-1dca6a4b7d72",
   "metadata": {},
   "outputs": [
    {
     "name": "stdout",
     "output_type": "stream",
     "text": [
      "['blacksmith', 'carpenter', 'weaver', 'carpenter']\n"
     ]
    }
   ],
   "source": [
    "print(skilled_laborers)"
   ]
  },
  {
   "cell_type": "code",
   "execution_count": 39,
   "id": "d797bb1a-f47a-42e3-9b74-896c07ffa683",
   "metadata": {},
   "outputs": [
    {
     "name": "stdout",
     "output_type": "stream",
     "text": [
      "Number of people in UK: 14\n"
     ]
    }
   ],
   "source": [
    "united_kingdom = []\n",
    "for place in birth_places:\n",
    "    if place == 'England' or place == 'Wales' or place == 'Ireland':\n",
    "        united_kingdom.append(place)\n",
    "print(f\"Number of people in UK: {len(united_kingdom)}\")\n"
   ]
  },
  {
   "cell_type": "code",
   "execution_count": 49,
   "id": "96fa13ec-0d0e-4ebc-87d6-c839ef4518c4",
   "metadata": {},
   "outputs": [
    {
     "name": "stdout",
     "output_type": "stream",
     "text": [
      "[23, 16, 28, 27, 17, 29, 15, 18]\n"
     ]
    }
   ],
   "source": [
    "youths = []\n",
    "for person in ages:\n",
    "    if person < 30:\n",
    "        youths.append(person)\n",
    "print(youths)"
   ]
  },
  {
   "cell_type": "code",
   "execution_count": null,
   "id": "ce7bfb13-4c84-4c08-8403-cfd72958f23e",
   "metadata": {},
   "outputs": [],
   "source": []
  }
 ],
 "metadata": {
  "kernelspec": {
   "display_name": "Python [conda env:base] *",
   "language": "python",
   "name": "conda-base-py"
  },
  "language_info": {
   "codemirror_mode": {
    "name": "ipython",
    "version": 3
   },
   "file_extension": ".py",
   "mimetype": "text/x-python",
   "name": "python",
   "nbconvert_exporter": "python",
   "pygments_lexer": "ipython3",
   "version": "3.12.7"
  }
 },
 "nbformat": 4,
 "nbformat_minor": 5
}
